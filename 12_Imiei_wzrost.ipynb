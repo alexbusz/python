{
 "cells": [
  {
   "cell_type": "code",
   "execution_count": 1,
   "id": "03531eab",
   "metadata": {},
   "outputs": [
    {
     "name": "stdout",
     "output_type": "stream",
     "text": [
      "{'Bolek': 184, 'Danuta': 167, 'Wojtek': 179, 'Dariusz': 189, 'Urszula': 170}\n"
     ]
    }
   ],
   "source": [
    "'''\n",
    "Zadanie 12.\n",
    "Napisz funkcję, która przyjmie argumenty nazwane imie i wzrost a następnie utworzy wpis do globalnego słownika. \n",
    "Dodaj co najmniej 5 wpisów.\n",
    "'''\n",
    "\n",
    "def dolacz_do_slownika(imie, wzrost):\n",
    "    slownik={}\n",
    "    for index, x in enumerate(imie):\n",
    "      slownik[x] = wzrost[index]\n",
    "    print(slownik)\n",
    "\n",
    "imie = ['Bolek', 'Danuta', 'Wojtek', 'Dariusz', 'Urszula']\n",
    "wzrost = [184, 167, 179, 189, 170]\n",
    "dolacz_do_slownika(imie, wzrost)\n"
   ]
  },
  {
   "cell_type": "code",
   "execution_count": null,
   "id": "5900d7ca",
   "metadata": {},
   "outputs": [],
   "source": []
  }
 ],
 "metadata": {
  "kernelspec": {
   "display_name": "Python 3 (ipykernel)",
   "language": "python",
   "name": "python3"
  },
  "language_info": {
   "codemirror_mode": {
    "name": "ipython",
    "version": 3
   },
   "file_extension": ".py",
   "mimetype": "text/x-python",
   "name": "python",
   "nbconvert_exporter": "python",
   "pygments_lexer": "ipython3",
   "version": "3.9.12"
  }
 },
 "nbformat": 4,
 "nbformat_minor": 5
}
