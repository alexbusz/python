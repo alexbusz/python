{
 "cells": [
  {
   "cell_type": "code",
   "execution_count": 1,
   "id": "b77c656e",
   "metadata": {},
   "outputs": [
    {
     "name": "stdout",
     "output_type": "stream",
     "text": [
      "[43, 24, 2]\n"
     ]
    }
   ],
   "source": [
    "# Napisz funkcję, która zwróci ktore urodziny będą obchodziły \n",
    "# w tym roku osoby urodzone w latach podanych w liście będącej argumentem wejściowym danej funkcji.\n",
    "\n",
    "def ktore_urodziny(a):\n",
    "  urodziny=[]\n",
    "  import datetime\n",
    "  for x in a: \n",
    "    b=datetime.datetime.now().year-x\n",
    "    urodziny.append(b)\n",
    "  return print(urodziny)\n",
    "\n",
    "a=[1979, 1998, 2020,]   \n",
    "ktore_urodziny(a)\n"
   ]
  },
  {
   "cell_type": "code",
   "execution_count": null,
   "id": "cb43f234",
   "metadata": {},
   "outputs": [],
   "source": []
  },
  {
   "cell_type": "code",
   "execution_count": null,
   "id": "9c300bac",
   "metadata": {},
   "outputs": [],
   "source": []
  }
 ],
 "metadata": {
  "kernelspec": {
   "display_name": "Python 3 (ipykernel)",
   "language": "python",
   "name": "python3"
  },
  "language_info": {
   "codemirror_mode": {
    "name": "ipython",
    "version": 3
   },
   "file_extension": ".py",
   "mimetype": "text/x-python",
   "name": "python",
   "nbconvert_exporter": "python",
   "pygments_lexer": "ipython3",
   "version": "3.9.12"
  }
 },
 "nbformat": 4,
 "nbformat_minor": 5
}
