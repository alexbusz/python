{
 "cells": [
  {
   "cell_type": "code",
   "execution_count": 3,
   "id": "6be2fd97",
   "metadata": {},
   "outputs": [
    {
     "name": "stdout",
     "output_type": "stream",
     "text": [
      "Wprowadz napis zawierajacy litery i cyfry: gsgsgsg gsgsgsgs 5555\n",
      "liter jest 4 liczb jest 15\n"
     ]
    }
   ],
   "source": [
    "def policz_znaki(napis):\n",
    "    total_liczby = 0\n",
    "    total_litery = 0\n",
    " \n",
    "    for n in napis:\n",
    " \n",
    "        if n.isnumeric():\n",
    "            total_liczby += 1\n",
    "        elif n.isalpha():\n",
    "            total_litery += 1\n",
    "        else:\n",
    "            pass\n",
    "        \n",
    " \n",
    "    print(\"liter jest %d liczb jest %d\" %(total_liczby, total_litery)) \n",
    "\n",
    "\n",
    "napis = input(\"Wprowadz napis zawierajacy litery i cyfry: \")\n",
    "policz_znaki(napis)"
   ]
  },
  {
   "cell_type": "code",
   "execution_count": null,
   "id": "c08ab05d",
   "metadata": {},
   "outputs": [],
   "source": []
  }
 ],
 "metadata": {
  "kernelspec": {
   "display_name": "Python 3 (ipykernel)",
   "language": "python",
   "name": "python3"
  },
  "language_info": {
   "codemirror_mode": {
    "name": "ipython",
    "version": 3
   },
   "file_extension": ".py",
   "mimetype": "text/x-python",
   "name": "python",
   "nbconvert_exporter": "python",
   "pygments_lexer": "ipython3",
   "version": "3.9.12"
  }
 },
 "nbformat": 4,
 "nbformat_minor": 5
}
