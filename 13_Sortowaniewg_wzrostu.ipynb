{
 "cells": [
  {
   "cell_type": "code",
   "execution_count": 1,
   "id": "b8359733",
   "metadata": {},
   "outputs": [
    {
     "name": "stdout",
     "output_type": "stream",
     "text": [
      "['Urszula', 'Bolek', 'Wojtek', 'Danuta', 'Dariusz']\n"
     ]
    }
   ],
   "source": [
    "'''\n",
    "Napisz funkcję, która przyjmie słownik mapujący imiona na wzrost, a następnie zwróci listę\n",
    "zawierającą imiona posortowane według wzrostu malejąco.\n",
    "'''\n",
    "\n",
    "\n",
    "def dolacz_do_slownika(imie, wzrost):\n",
    "    slownik={}\n",
    "    for index, x in enumerate(imie):\n",
    "      slownik[x] = wzrost[index]\n",
    "    #print(slownik)\n",
    "    return(slownik)\n",
    "\n",
    "imie = ['Bolek', 'Danuta', 'Wojtek', 'Dariusz', 'Urszula']\n",
    "wzrost = [184, 167, 179, 189, 170]\n",
    "\n",
    "slownik=dolacz_do_slownika(imie, wzrost)\n",
    "#print(slownik)\n",
    "#print(slownik.keys())\n",
    "def sortowanie_wg_wzrostu(slownik):\n",
    "  #print(slownik.keys())\n",
    "  #imiona=[slownik.keys()]\n",
    "  #print(imiona)\n",
    "  #wzrost=slownik.values()\n",
    "  #print(wzrost)\n",
    "  imiona=(sorted(slownik.keys(), key=lambda x: x[1], reverse=True))\n",
    "  # w kluczu lambda x: x[1] argumentem jest tupla złożona z pary klucz-wartość, x[0] jest kluczem, a x[1] wartością\n",
    "  print(imiona)\n",
    "\n",
    "slownik=dolacz_do_slownika(imie, wzrost)\n",
    "sortowanie_wg_wzrostu(slownik)\n"
   ]
  },
  {
   "cell_type": "code",
   "execution_count": null,
   "id": "3a06247f",
   "metadata": {},
   "outputs": [],
   "source": []
  }
 ],
 "metadata": {
  "kernelspec": {
   "display_name": "Python 3 (ipykernel)",
   "language": "python",
   "name": "python3"
  },
  "language_info": {
   "codemirror_mode": {
    "name": "ipython",
    "version": 3
   },
   "file_extension": ".py",
   "mimetype": "text/x-python",
   "name": "python",
   "nbconvert_exporter": "python",
   "pygments_lexer": "ipython3",
   "version": "3.9.12"
  }
 },
 "nbformat": 4,
 "nbformat_minor": 5
}
