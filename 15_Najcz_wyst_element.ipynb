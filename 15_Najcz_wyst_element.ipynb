{
 "cells": [
  {
   "cell_type": "code",
   "execution_count": 3,
   "id": "31d26e4b",
   "metadata": {},
   "outputs": [
    {
     "data": {
      "text/plain": [
       "2"
      ]
     },
     "execution_count": 3,
     "metadata": {},
     "output_type": "execute_result"
    }
   ],
   "source": [
    "'''\n",
    "Napisz funkcję przyjmujaca jeden parametr list zawierajacy liczby całkowite i zwracajaca element, który pojawia się na liscie najczęciej.\n",
    "'''\n",
    "\n",
    "def najczesciej_wystepujacy_element_w(list):\n",
    "    return max(set(list), key = list.count)\n",
    "\n",
    "list = [2,1,4,2,9,7,2,8,2,6,7,6]\n",
    "najczesciej_wystepujacy_element_w(list)\n"
   ]
  },
  {
   "cell_type": "code",
   "execution_count": null,
   "id": "4b8f4212",
   "metadata": {},
   "outputs": [],
   "source": []
  }
 ],
 "metadata": {
  "kernelspec": {
   "display_name": "Python 3 (ipykernel)",
   "language": "python",
   "name": "python3"
  },
  "language_info": {
   "codemirror_mode": {
    "name": "ipython",
    "version": 3
   },
   "file_extension": ".py",
   "mimetype": "text/x-python",
   "name": "python",
   "nbconvert_exporter": "python",
   "pygments_lexer": "ipython3",
   "version": "3.9.12"
  }
 },
 "nbformat": 4,
 "nbformat_minor": 5
}
