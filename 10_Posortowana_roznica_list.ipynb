{
 "cells": [
  {
   "cell_type": "code",
   "execution_count": 2,
   "id": "3d593fe8",
   "metadata": {},
   "outputs": [
    {
     "name": "stdout",
     "output_type": "stream",
     "text": [
      "[5, 7, 9, 12, 14, 15]\n"
     ]
    }
   ],
   "source": [
    "# Napisz funkcję, która przyjmie dwie listy liczb całkowitych, i zwróci listę liczb występujących \n",
    "# w pierwszej i nie występujących w drugiej liście, posortowana rosnąco względem ilości wystąpień w pierwszej liście.\n",
    "\n",
    "from itertools import count\n",
    "def posortowana_roznica_list(a,b):\n",
    "    c=[]\n",
    "    for x in a:\n",
    "      if x in a and x in b:\n",
    "          pass\n",
    "      else:\n",
    "          c.append(x)\n",
    "    return (print(sorted(c, key=c.count)))\n",
    "a=[2,4,5,7,9,12,14,15,16,22]\n",
    "b=[1,2,3,4,6,8,11,13,16,22]\n",
    "posortowana_roznica_list(a,b)\n"
   ]
  },
  {
   "cell_type": "code",
   "execution_count": null,
   "id": "d06f325f",
   "metadata": {},
   "outputs": [],
   "source": []
  }
 ],
 "metadata": {
  "kernelspec": {
   "display_name": "Python 3 (ipykernel)",
   "language": "python",
   "name": "python3"
  },
  "language_info": {
   "codemirror_mode": {
    "name": "ipython",
    "version": 3
   },
   "file_extension": ".py",
   "mimetype": "text/x-python",
   "name": "python",
   "nbconvert_exporter": "python",
   "pygments_lexer": "ipython3",
   "version": "3.9.12"
  }
 },
 "nbformat": 4,
 "nbformat_minor": 5
}
