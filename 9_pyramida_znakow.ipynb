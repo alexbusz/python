{
 "cells": [
  {
   "cell_type": "code",
   "execution_count": 7,
   "id": "de1efc0c",
   "metadata": {},
   "outputs": [
    {
     "name": "stdout",
     "output_type": "stream",
     "text": [
      "\n",
      "* \n",
      "* $ \n",
      "* $ * \n",
      "* $ * $ \n",
      "* $ * $ * \n",
      "* $ * $ * $ \n",
      "* $ * $ * \n",
      "* $ * $ \n",
      "* $ * \n",
      "* $ \n",
      "* \n"
     ]
    }
   ],
   "source": [
    "str=\"*$*$*$\"\n",
    "\n",
    "for i in range(0,6):\n",
    "    print()\n",
    "    for j in range(0,i+1):\n",
    "        print(str[j], end=' ')\n",
    "        \n",
    "for i in range(6,0,-1):\n",
    "    print()\n",
    "    for j in range(0,i-1):\n",
    "        print(str[j], end=' ')\n",
    "        \n",
    "        \n",
    "        \n"
   ]
  },
  {
   "cell_type": "code",
   "execution_count": null,
   "id": "7756577f",
   "metadata": {},
   "outputs": [],
   "source": []
  }
 ],
 "metadata": {
  "kernelspec": {
   "display_name": "Python 3 (ipykernel)",
   "language": "python",
   "name": "python3"
  },
  "language_info": {
   "codemirror_mode": {
    "name": "ipython",
    "version": 3
   },
   "file_extension": ".py",
   "mimetype": "text/x-python",
   "name": "python",
   "nbconvert_exporter": "python",
   "pygments_lexer": "ipython3",
   "version": "3.9.12"
  }
 },
 "nbformat": 4,
 "nbformat_minor": 5
}
