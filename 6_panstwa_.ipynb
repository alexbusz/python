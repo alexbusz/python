{
 "cells": [
  {
   "cell_type": "code",
   "execution_count": 16,
   "id": "cd06e645",
   "metadata": {},
   "outputs": [
    {
     "name": "stdout",
     "output_type": "stream",
     "text": [
      "Polska [322000, 38000000, 35000]\n",
      "Niemcy [360000, 83000000, 43000]\n",
      "Szwecja [530000, 10500000, 54000]\n",
      "Francja [545000, 68000000, 38000]\n"
     ]
    }
   ],
   "source": [
    "Panstwa = {'Polska': [322000, 38000000, 35000], 'Niemcy': [360000, 83000000, 43000], 'Szwecja': [530000, 10500000, 54000], 'Francja': [545000, 68000000, 38000]}\n",
    "\n",
    "\n",
    "for panstwa, indeks in Panstwa.items():\n",
    "    print (panstwa, indeks)"
   ]
  },
  {
   "cell_type": "code",
   "execution_count": null,
   "id": "4413ad73",
   "metadata": {},
   "outputs": [],
   "source": []
  }
 ],
 "metadata": {
  "kernelspec": {
   "display_name": "Python 3 (ipykernel)",
   "language": "python",
   "name": "python3"
  },
  "language_info": {
   "codemirror_mode": {
    "name": "ipython",
    "version": 3
   },
   "file_extension": ".py",
   "mimetype": "text/x-python",
   "name": "python",
   "nbconvert_exporter": "python",
   "pygments_lexer": "ipython3",
   "version": "3.9.12"
  }
 },
 "nbformat": 4,
 "nbformat_minor": 5
}
