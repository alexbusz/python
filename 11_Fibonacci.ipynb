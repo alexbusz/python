{
 "cells": [
  {
   "cell_type": "code",
   "execution_count": 8,
   "id": "7599aa01",
   "metadata": {},
   "outputs": [
    {
     "name": "stdout",
     "output_type": "stream",
     "text": [
      "N-ta liczba ciagu Fibonacciego: 5\n"
     ]
    }
   ],
   "source": [
    "n=5\n",
    "def ciag_Fibonacciego(n):   \n",
    "    \n",
    "    if n < 0:  \n",
    "        print(\"Liczba nie moze byc mniejsza od '0'\")  \n",
    "    \n",
    "    elif n == 0:   \n",
    "        return (0)   \n",
    "    \n",
    "    elif n == 1:  \n",
    "        return (1)  \n",
    "    else:  \n",
    "        return (ciag_Fibonacciego(n - 1) + ciag_Fibonacciego(n - 2))   \n",
    "  \n",
    "print(\"N-ta liczba ciagu Fibonacciego:\", ciag_Fibonacciego(n))  "
   ]
  },
  {
   "cell_type": "code",
   "execution_count": null,
   "id": "dd163f5a",
   "metadata": {},
   "outputs": [],
   "source": []
  },
  {
   "cell_type": "code",
   "execution_count": null,
   "id": "2bad73fa",
   "metadata": {},
   "outputs": [],
   "source": []
  }
 ],
 "metadata": {
  "kernelspec": {
   "display_name": "Python 3 (ipykernel)",
   "language": "python",
   "name": "python3"
  },
  "language_info": {
   "codemirror_mode": {
    "name": "ipython",
    "version": 3
   },
   "file_extension": ".py",
   "mimetype": "text/x-python",
   "name": "python",
   "nbconvert_exporter": "python",
   "pygments_lexer": "ipython3",
   "version": "3.9.12"
  }
 },
 "nbformat": 4,
 "nbformat_minor": 5
}
