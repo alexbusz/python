{
 "cells": [
  {
   "cell_type": "code",
   "execution_count": 2,
   "id": "fb276bf3",
   "metadata": {},
   "outputs": [
    {
     "name": "stdout",
     "output_type": "stream",
     "text": [
      "8\n"
     ]
    }
   ],
   "source": [
    "def potega(N, P):\n",
    "    \n",
    "    if P == 0:\n",
    "        return 1\n",
    "    \n",
    "    return (N*potega(N, P-1)) \n",
    "\n",
    "N = 2\n",
    "P = 3\n",
    " \n",
    "print(potega(N, P))"
   ]
  },
  {
   "cell_type": "code",
   "execution_count": null,
   "id": "4a2e9ae4",
   "metadata": {},
   "outputs": [],
   "source": []
  }
 ],
 "metadata": {
  "kernelspec": {
   "display_name": "Python 3 (ipykernel)",
   "language": "python",
   "name": "python3"
  },
  "language_info": {
   "codemirror_mode": {
    "name": "ipython",
    "version": 3
   },
   "file_extension": ".py",
   "mimetype": "text/x-python",
   "name": "python",
   "nbconvert_exporter": "python",
   "pygments_lexer": "ipython3",
   "version": "3.9.12"
  }
 },
 "nbformat": 4,
 "nbformat_minor": 5
}
