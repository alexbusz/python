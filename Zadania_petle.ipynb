{
 "cells": [
  {
   "cell_type": "code",
   "execution_count": 1,
   "id": "e56bf1e4",
   "metadata": {},
   "outputs": [
    {
     "name": "stdout",
     "output_type": "stream",
     "text": [
      "0\n",
      "1\n",
      "2\n",
      "3\n",
      "4\n"
     ]
    }
   ],
   "source": [
    "# Proszę za pomocą dowolnej pętli wyświetlić poniższy ciąg liczb:\n",
    "for a in range (5):\n",
    "    print (a)"
   ]
  },
  {
   "cell_type": "code",
   "execution_count": 2,
   "id": "0d658a6a",
   "metadata": {},
   "outputs": [
    {
     "name": "stdout",
     "output_type": "stream",
     "text": [
      "6\n",
      "12\n",
      "18\n",
      "24\n",
      "30\n"
     ]
    }
   ],
   "source": [
    "# Proszę zdefiniować funkcję, która za pomocą pętli będzie generować dowolny, zadany przez użytkownika ciąg liczb\n",
    "a=0\n",
    "for i in range (5):\n",
    "    a=a+6\n",
    "    print (a)"
   ]
  },
  {
   "cell_type": "code",
   "execution_count": 4,
   "id": "a1b1e22d",
   "metadata": {},
   "outputs": [
    {
     "name": "stdout",
     "output_type": "stream",
     "text": [
      "6\n",
      "12\n",
      "18\n",
      "24\n",
      "30\n"
     ]
    }
   ],
   "source": [
    "# Proszę za pomocą pętli wyświetlić ciąg liczb:\n",
    "6, 12, 18, 24, 30\n",
    "\n",
    "a=0\n",
    "for i in range (5):\n",
    "    a=a+6\n",
    "    print (a)"
   ]
  },
  {
   "cell_type": "code",
   "execution_count": 5,
   "id": "9f456a47",
   "metadata": {},
   "outputs": [
    {
     "name": "stdout",
     "output_type": "stream",
     "text": [
      "0\n",
      "1\n",
      "3\n",
      "6\n",
      "10\n"
     ]
    }
   ],
   "source": [
    "z=0\n",
    "for a in range (5):\n",
    "    z=a+z\n",
    "    print (z)"
   ]
  },
  {
   "cell_type": "code",
   "execution_count": null,
   "id": "09434a7c",
   "metadata": {},
   "outputs": [],
   "source": []
  }
 ],
 "metadata": {
  "kernelspec": {
   "display_name": "Python 3 (ipykernel)",
   "language": "python",
   "name": "python3"
  },
  "language_info": {
   "codemirror_mode": {
    "name": "ipython",
    "version": 3
   },
   "file_extension": ".py",
   "mimetype": "text/x-python",
   "name": "python",
   "nbconvert_exporter": "python",
   "pygments_lexer": "ipython3",
   "version": "3.9.12"
  }
 },
 "nbformat": 4,
 "nbformat_minor": 5
}
