{
 "cells": [
  {
   "cell_type": "code",
   "execution_count": 1,
   "id": "c29cd02b",
   "metadata": {},
   "outputs": [
    {
     "name": "stdout",
     "output_type": "stream",
     "text": [
      "Liczby pierwsze mniejsze od wskazanej liczby 45 to:\n",
      "2 3 5 7 11 13 17 19 23 29 31 37 41 43 "
     ]
    }
   ],
   "source": [
    "def liczba_pierwsza(liczba):\n",
    "  n = 0\n",
    "  i = 2\n",
    "  for i in range(2,liczba//2+1):\n",
    "    if liczba % i == 0:\n",
    "      n = n + 1\n",
    "      break\n",
    "  if n == 0:\n",
    "    print(liczba, end=\" \")\n",
    "\n",
    "x = 45\n",
    "print(\"Liczby pierwsze mniejsze od wskazanej liczby\", x, \"to:\")\n",
    "for i in range(2, x+1):\n",
    "  liczba_pierwsza(i)"
   ]
  },
  {
   "cell_type": "code",
   "execution_count": null,
   "id": "b4eda52f",
   "metadata": {},
   "outputs": [],
   "source": []
  }
 ],
 "metadata": {
  "kernelspec": {
   "display_name": "Python 3 (ipykernel)",
   "language": "python",
   "name": "python3"
  },
  "language_info": {
   "codemirror_mode": {
    "name": "ipython",
    "version": 3
   },
   "file_extension": ".py",
   "mimetype": "text/x-python",
   "name": "python",
   "nbconvert_exporter": "python",
   "pygments_lexer": "ipython3",
   "version": "3.9.12"
  }
 },
 "nbformat": 4,
 "nbformat_minor": 5
}
